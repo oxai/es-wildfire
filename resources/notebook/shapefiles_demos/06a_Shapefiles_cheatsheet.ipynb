{
 "cells": [
  {
   "cell_type": "code",
   "execution_count": 5,
   "metadata": {},
   "outputs": [],
   "source": [
    "# Import OGR - \n",
    "from osgeo import ogr\n",
    "import os\n",
    "\n",
    "\n",
    "# Open the dataset from the file\n",
    "\n",
    "folder = str(os.environ.get('HOME')) + \"/Documents/my_projects/pythonGIS/qgis_sample_data/shapefiles/airports.shp\"\n",
    "dataset = ogr.Open(folder)\n",
    "# Make sure the dataset exists -- it would be None if we couldn't open it\n",
    "if not dataset:\n",
    "    print('Error: could not open dataset')"
   ]
  },
  {
   "cell_type": "code",
   "execution_count": 6,
   "metadata": {},
   "outputs": [
    {
     "name": "stdout",
     "output_type": "stream",
     "text": [
      "file type:  ESRI Shapefile\n",
      "The shapefile has  1 layer(s)\n",
      "1\n",
      "The geometry is:  Point\n",
      "feature_count:  76\n",
      "fields:  5\n",
      "-----------------------------\n",
      "Their names are: \n",
      "ID type:  Integer64\n",
      "fk_region type:  Integer64\n",
      "ELEV type:  Real\n",
      "NAME type:  String\n",
      "USE type:  String\n"
     ]
    }
   ],
   "source": [
    "### Let's get the driver from this file\n",
    "driver = dataset.GetDriver()\n",
    "print('file type: ', driver.name)\n",
    "layer = dataset.GetLayerByIndex(0)\n",
    "\n",
    "### How many layers \n",
    "layer_count = dataset.GetLayerCount()\n",
    "print('The shapefile has ',layer_count ,'layer(s)')\n",
    "\n",
    "### What is the layer's geometry? is it a point? a polyline? a polygon?\n",
    "# First read in the geometry - but this is the enumerated type's value\n",
    "geometry = layer.GetGeomType()\n",
    "print (geometry) ## 1 = point !\n",
    "geometry_name = ogr.GeometryTypeToName(geometry)\n",
    "print('The geometry is: ', geometry_name)\n",
    "\n",
    "### How many features are in the layer?\n",
    "feature_count = layer.GetFeatureCount()\n",
    "print('feature_count: ', feature_count)\n",
    "\n",
    "### How many fields are in the shapefile, and what are their names?\n",
    "# First we need to capture the layer definition\n",
    "defn = layer.GetLayerDefn()\n",
    "field_count = defn.GetFieldCount()\n",
    "print('fields: ', field_count)\n",
    "\n",
    "print (\"-----------------------------\")\n",
    "# What are field names\n",
    "print('Their names are: ')\n",
    "for i in range(field_count):\n",
    "    field_defn = defn.GetFieldDefn(i)\n",
    "    print(field_defn.GetName(), \"type: \", field_defn.GetTypeName())"
   ]
  },
  {
   "cell_type": "code",
   "execution_count": 7,
   "metadata": {},
   "outputs": [
    {
     "name": "stdout",
     "output_type": "stream",
     "text": [
      "['ID', 'fk_region', 'ELEV', 'NAME', 'USE']\n"
     ]
    }
   ],
   "source": [
    "lsfields = []\n",
    "for i in range(field_count):\n",
    "    field_defn = defn.GetFieldDefn(i)\n",
    "    lsfields.append(field_defn.GetName())\n",
    "print (lsfields)"
   ]
  },
  {
   "cell_type": "markdown",
   "metadata": {},
   "source": [
    "##Challenge can you report each shapefiles fields to a qc type report? \n",
    "##start with a print statement\n",
    "\n",
    "#looking for...\n",
    "\n",
    "airports\n",
    "\n",
    "ID\n",
    "fk_region\n",
    "ELEV\n",
    "NAME\n",
    "USE"
   ]
  },
  {
   "cell_type": "code",
   "execution_count": 8,
   "metadata": {},
   "outputs": [
    {
     "name": "stdout",
     "output_type": "stream",
     "text": [
      "           0\n",
      "0         ID\n",
      "1  fk_region\n",
      "2       ELEV\n",
      "3       NAME\n",
      "4        USE\n"
     ]
    }
   ],
   "source": [
    "## additional what happens if you convert this to a pandas dataframe\n",
    "##use\n",
    "\n",
    "import pandas as pd\n",
    "df = pd.DataFrame(lsfields)\n",
    "print (df)"
   ]
  },
  {
   "cell_type": "code",
   "execution_count": null,
   "metadata": {},
   "outputs": [],
   "source": []
  }
 ],
 "metadata": {
  "kernelspec": {
   "display_name": "Python 3",
   "language": "python",
   "name": "python3"
  },
  "language_info": {
   "codemirror_mode": {
    "name": "ipython",
    "version": 3
   },
   "file_extension": ".py",
   "mimetype": "text/x-python",
   "name": "python",
   "nbconvert_exporter": "python",
   "pygments_lexer": "ipython3",
   "version": "3.7.5"
  }
 },
 "nbformat": 4,
 "nbformat_minor": 2
}
