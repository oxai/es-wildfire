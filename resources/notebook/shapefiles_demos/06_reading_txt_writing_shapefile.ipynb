{
 "cells": [
  {
   "cell_type": "code",
   "execution_count": 4,
   "metadata": {},
   "outputs": [
    {
     "name": "stdout",
     "output_type": "stream",
     "text": [
      "X,Y,id\n",
      "\n",
      "620053.849724248,5608269.55076969,1\n",
      "\n",
      "620869.406785648,5608625.54789967,2\n",
      "\n",
      "622371.067406639,5608735.5833762,3\n",
      "\n",
      "622332.231356096,5608204.82401878,4\n",
      "\n",
      "620429.264879496,5607220.97740503,5\n",
      "\n",
      "619419.527565381,5607576.97453501,6\n",
      "\n",
      "620319.229402957,5609512.30438706,7\n",
      "\n",
      "621193.040540172,5609544.66776251,8\n",
      "\n",
      "622688.228486073,5609518.77706215,9\n",
      "\n",
      "623387.277395844,5608133.62459279,10\n",
      "\n"
     ]
    }
   ],
   "source": [
    "### Lets start by reading a csv of coordinates\n",
    "\n",
    "import os\n",
    "\n",
    "directory= str(os.environ.get('HOME')) + '/Documents/my_projects/pythonGIS/data_package_beg/'\n",
    "fileName = directory + \"Points_training.csv\"\n",
    "\n",
    "### reading file line by line\n",
    "\n",
    "f = open(fileName, 'r') \n",
    "for line in f: \n",
    "    print (line)\n",
    "f.close()"
   ]
  },
  {
   "cell_type": "markdown",
   "metadata": {},
   "source": [
    "Now we can start using the ogr and gdal libraries. \n",
    "<br></br>\n",
    "writing a point shapefile"
   ]
  },
  {
   "cell_type": "code",
   "execution_count": 5,
   "metadata": {},
   "outputs": [
    {
     "name": "stdout",
     "output_type": "stream",
     "text": [
      "POINT (620053.849724248 5608269.55076969 1)\n",
      "POINT (620869.406785648 5608625.54789967 2)\n",
      "POINT (622371.067406639 5608735.5833762 3)\n",
      "POINT (622332.231356096 5608204.82401878 4)\n",
      "POINT (620429.264879496 5607220.97740503 5)\n",
      "POINT (619419.527565381 5607576.97453501 6)\n",
      "POINT (620319.229402957 5609512.30438706 7)\n",
      "POINT (621193.040540172 5609544.66776251 8)\n",
      "POINT (622688.228486073 5609518.77706215 9)\n",
      "POINT (623387.277395844 5608133.62459279 10)\n"
     ]
    }
   ],
   "source": [
    "#https://pcjericks.github.io/py-gdalogr-cookbook/geometry.html#create-a-point\n",
    "from osgeo import ogr, osr\n",
    "\n",
    "#fileName = r\"D:\\Cardiff\\day1\\data_package_beg\\Points_training.csv\"\n",
    "\n",
    "### reading file line by line\n",
    "lsData = []\n",
    "f = open(fileName, 'r') \n",
    "for line in f: \n",
    "    data = line.split(',') ### we need to split the data based on comma!\n",
    "    lsData.append(data)\n",
    "f.close()\n",
    "\n",
    "### So we have our data!! now create the shapefile\n",
    "\n",
    "# 1. set up the shapefile driver\n",
    "driver = ogr.GetDriverByName(\"ESRI Shapefile\")\n",
    "\n",
    "# 2.create the file\n",
    "data_source = driver.CreateDataSource(directory + \"points.shp\")\n",
    "\n",
    "# 3. set the spatial reference in this case UTM 30N\n",
    "srs = osr.SpatialReference()\n",
    "srs.ImportFromEPSG(32630) ### think about this a variable - build a function **\n",
    "\n",
    "# 4. create the layer\n",
    "layer = data_source.CreateLayer(\"points\", srs, ogr.wkbPoint) ## look at ogr cook book\n",
    "\n",
    "# 5. Add the fields to the shapefile\n",
    "layer.CreateField(ogr.FieldDefn(\"Y\", ogr.OFTReal)) ## data types\n",
    "layer.CreateField(ogr.FieldDefn(\"X\", ogr.OFTReal))\n",
    "\n",
    "# 6. set the geometry as a POINT!\n",
    "point = ogr.Geometry(ogr.wkbPoint)\n",
    "# loop through the data\n",
    "for i in range(1,len(lsData)):\n",
    "    #create the feature\n",
    "    feature = ogr.Feature(layer.GetLayerDefn())\n",
    "    feature.SetField(\"Y\", lsData[i][1]) ## i is iterator, 1 is position.. storing y,x not x,y\n",
    "    feature.SetField(\"X\", lsData[i][0])\n",
    "    # add the point\n",
    "    point.AddPoint(float(lsData[i][0]), float(lsData[i][1]), i)\n",
    "    # set the wkt (well known text)\n",
    "    wkt = point.ExportToWkt() ## print this if not sure..\n",
    "    print (wkt)\n",
    "    # Create the point from the Well Known Txt\n",
    "    point = ogr.CreateGeometryFromWkt(wkt)\n",
    "\n",
    "    # Set the feature geometry using the point\n",
    "    feature.SetGeometry(point)\n",
    "    # Create the feature in the layer (shapefile)\n",
    "    layer.CreateFeature(feature)\n",
    "    # Destroy the feature to free resources\n",
    "    feature.Destroy()\n",
    "\n",
    "# 7. Destroy the data source to free resources\n",
    "data_source.Destroy() ## destroy can be a scary term, it would be better if it was called something else but... nothing we can do (well open source?)"
   ]
  },
  {
   "cell_type": "code",
   "execution_count": 6,
   "metadata": {},
   "outputs": [
    {
     "name": "stdout",
     "output_type": "stream",
     "text": [
      "PROJCS[\"WGS 84 / UTM zone 30N\",\n",
      "    GEOGCS[\"WGS 84\",\n",
      "        DATUM[\"WGS_1984\",\n",
      "            SPHEROID[\"WGS 84\",6378137,298.257223563,\n",
      "                AUTHORITY[\"EPSG\",\"7030\"]],\n",
      "            AUTHORITY[\"EPSG\",\"6326\"]],\n",
      "        PRIMEM[\"Greenwich\",0,\n",
      "            AUTHORITY[\"EPSG\",\"8901\"]],\n",
      "        UNIT[\"degree\",0.0174532925199433,\n",
      "            AUTHORITY[\"EPSG\",\"9122\"]],\n",
      "        AUTHORITY[\"EPSG\",\"4326\"]],\n",
      "    PROJECTION[\"Transverse_Mercator\"],\n",
      "    PARAMETER[\"latitude_of_origin\",0],\n",
      "    PARAMETER[\"central_meridian\",-3],\n",
      "    PARAMETER[\"scale_factor\",0.9996],\n",
      "    PARAMETER[\"false_easting\",500000],\n",
      "    PARAMETER[\"false_northing\",0],\n",
      "    UNIT[\"metre\",1,\n",
      "        AUTHORITY[\"EPSG\",\"9001\"]],\n",
      "    AXIS[\"Easting\",EAST],\n",
      "    AXIS[\"Northing\",NORTH],\n",
      "    AUTHORITY[\"EPSG\",\"32630\"]]\n",
      "\n",
      "feature count: 10\n",
      "\n",
      "printing all the x values\n",
      "620053.849724248\n",
      "620869.406785648\n",
      "622371.067406639\n",
      "622332.231356096\n",
      "620429.264879496\n",
      "619419.527565381\n",
      "620319.229402957\n",
      "621193.040540172\n",
      "622688.228486073\n",
      "623387.277395844\n"
     ]
    }
   ],
   "source": [
    "### Reading a shapefile and printing its spatial reference\n",
    "# Import the necessary modules\n",
    "from  osgeo import ogr, osr\n",
    "\n",
    "driver = ogr.GetDriverByName('ESRI Shapefile')\n",
    "shp = driver.Open(directory + 'points.shp')\n",
    "\n",
    "# Get Projection from layer\n",
    "layer = shp.GetLayer()\n",
    "spatialRef = layer.GetSpatialRef()\n",
    "print (spatialRef)\n",
    "print (\"\")\n",
    "### get the number of features in a shapefile\n",
    "featureCount = layer.GetFeatureCount()\n",
    "print (\"feature count:\", featureCount)\n",
    "print (\"\")\n",
    "## get all the values in X field\n",
    "print (\"printing all the x values\")\n",
    "for feature in layer:\n",
    "    print (feature.GetField(\"X\"))"
   ]
  }
 ],
 "metadata": {
  "kernelspec": {
   "display_name": "Python 3",
   "language": "python",
   "name": "python3"
  },
  "language_info": {
   "codemirror_mode": {
    "name": "ipython",
    "version": 3
   },
   "file_extension": ".py",
   "mimetype": "text/x-python",
   "name": "python",
   "nbconvert_exporter": "python",
   "pygments_lexer": "ipython3",
   "version": "3.7.5"
  }
 },
 "nbformat": 4,
 "nbformat_minor": 2
}
