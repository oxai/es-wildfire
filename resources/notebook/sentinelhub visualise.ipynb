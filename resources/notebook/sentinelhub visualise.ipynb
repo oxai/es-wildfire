{
 "cells": [
  {
   "cell_type": "code",
   "execution_count": 3,
   "metadata": {
    "pycharm": {
     "is_executing": false
    }
   },
   "outputs": [],
   "source": [
    "import matplotlib.pyplot as plt\n",
    "import numpy as np\n",
    "%matplotlib inline"
   ]
  },
  {
   "cell_type": "code",
   "execution_count": 4,
   "metadata": {
    "pycharm": {
     "is_executing": false
    }
   },
   "outputs": [],
   "source": [
    "import os\n",
    "\n",
    "script_dir = globals()['_dh'][0] # getting path of the directory where .ipynb lives\n",
    "os.chdir(os.path.join(script_dir, \"../../\")) # add as many \"../\" to get to set the working directory to be the root of the project"
   ]
  },
  {
   "cell_type": "code",
   "execution_count": 5,
   "metadata": {
    "pycharm": {
     "is_executing": false
    }
   },
   "outputs": [
    {
     "name": "stderr",
     "text": [
      "c:\\users\\shu ishida\\anaconda3\\envs\\ee-django\\lib\\site-packages\\pyproj\\crs.py:77: FutureWarning: '+init=<authority>:<code>' syntax is deprecated. '<authority>:<code>' is the preferred initialization method.\n  return _prepare_from_string(\" \".join(pjargs))\nc:\\users\\shu ishida\\anaconda3\\envs\\ee-django\\lib\\site-packages\\pyproj\\crs.py:77: FutureWarning: '+init=<authority>:<code>' syntax is deprecated. '<authority>:<code>' is the preferred initialization method.\n  return _prepare_from_string(\" \".join(pjargs))\n"
     ],
     "output_type": "stream"
    },
    {
     "traceback": [
      "\u001b[1;31m---------------------------------------------------------------------------\u001b[0m",
      "\u001b[1;31mImportError\u001b[0m                               Traceback (most recent call last)",
      "\u001b[1;32m<ipython-input-5-98e2762b1303>\u001b[0m in \u001b[0;36m<module>\u001b[1;34m\u001b[0m\n\u001b[0;32m      1\u001b[0m \u001b[1;32mfrom\u001b[0m \u001b[0mresources\u001b[0m\u001b[1;33m.\u001b[0m\u001b[0msentinelhub\u001b[0m\u001b[1;33m.\u001b[0m\u001b[0mload\u001b[0m\u001b[1;33m.\u001b[0m\u001b[0mdata_loader\u001b[0m \u001b[1;32mimport\u001b[0m \u001b[0mSentinelHubDataLoader\u001b[0m\u001b[1;33m\u001b[0m\u001b[1;33m\u001b[0m\u001b[0m\n\u001b[0;32m      2\u001b[0m \u001b[1;32mfrom\u001b[0m \u001b[0mresources\u001b[0m\u001b[1;33m.\u001b[0m\u001b[0msentinelhub\u001b[0m\u001b[1;33m.\u001b[0m\u001b[0mshow\u001b[0m \u001b[1;32mimport\u001b[0m \u001b[0mplot_image\u001b[0m\u001b[1;33m\u001b[0m\u001b[1;33m\u001b[0m\u001b[0m\n\u001b[1;32m----> 3\u001b[1;33m \u001b[1;32mfrom\u001b[0m \u001b[0mresources\u001b[0m\u001b[1;33m.\u001b[0m\u001b[0msentinelhub\u001b[0m\u001b[1;33m.\u001b[0m\u001b[0mutils\u001b[0m \u001b[1;32mimport\u001b[0m \u001b[0mget_bbox\u001b[0m\u001b[1;33m\u001b[0m\u001b[1;33m\u001b[0m\u001b[0m\n\u001b[0m\u001b[0;32m      4\u001b[0m \u001b[1;33m\u001b[0m\u001b[0m\n",
      "\u001b[1;31mImportError\u001b[0m: cannot import name 'get_bbox' from 'resources.sentinelhub.utils' (E:\\Ongoing Projects\\OxAI Labs\\Repository\\es_wildfire\\resources\\sentinelhub\\utils.py)"
     ],
     "ename": "ImportError",
     "evalue": "cannot import name 'get_bbox' from 'resources.sentinelhub.utils' (E:\\Ongoing Projects\\OxAI Labs\\Repository\\es_wildfire\\resources\\sentinelhub\\utils.py)",
     "output_type": "error"
    }
   ],
   "source": [
    "from resources.sentinelhub.load.data_loader import SentinelHubDataLoader\n",
    "from resources.sentinelhub.show import plot_image\n",
    "from resources.sentinelhub.utils import get_bbox"
   ]
  },
  {
   "cell_type": "code",
   "execution_count": null,
   "metadata": {
    "pycharm": {
     "is_executing": false
    }
   },
   "outputs": [],
   "source": [
    "loader = SentinelHubDataLoader()"
   ]
  },
  {
   "cell_type": "code",
   "execution_count": null,
   "metadata": {
    "pycharm": {
     "is_executing": false
    }
   },
   "outputs": [],
   "source": [
    "info = {\n",
    "    \"layer\": 'TRUE-COLOR-S2-L1C',\n",
    "    \"bbox\": get_bbox(45.340833, -116.466667, r=3000),\n",
    "    \"time\": ('2019-10-01', '2019-10-31'),\n",
    "    \"resx\": \"10m\",\n",
    "    \"resy\": \"10m\"\n",
    "}\n",
    "\n",
    "wcs_img = loader.load(info)\n",
    "plot_image(wcs_img[-1])"
   ]
  },
  {
   "cell_type": "code",
   "execution_count": null,
   "metadata": {
    "pycharm": {
     "is_executing": false
    }
   },
   "outputs": [],
   "source": []
  },
  {
   "cell_type": "code",
   "execution_count": null,
   "metadata": {
    "pycharm": {
     "is_executing": false
    }
   },
   "outputs": [],
   "source": []
  }
 ],
 "metadata": {
  "kernelspec": {
   "display_name": "Python 3",
   "language": "python",
   "name": "python3"
  },
  "language_info": {
   "codemirror_mode": {
    "name": "ipython",
    "version": 3
   },
   "file_extension": ".py",
   "mimetype": "text/x-python",
   "name": "python",
   "nbconvert_exporter": "python",
   "pygments_lexer": "ipython3",
   "version": "3.7.5"
  }
 },
 "nbformat": 4,
 "nbformat_minor": 2
}