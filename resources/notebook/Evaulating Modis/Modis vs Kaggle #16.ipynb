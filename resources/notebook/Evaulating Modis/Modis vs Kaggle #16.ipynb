{
 "cells": [
  {
   "cell_type": "code",
   "execution_count": 1,
   "metadata": {},
   "outputs": [],
   "source": [
    "from datetime import datetime, timedelta\n",
    "import numpy as np\n",
    "import matplotlib.pyplot as plt\n",
    "import sqlite3\n",
    "import pandas as pd\n",
    "import random\n",
    "import os\n",
    "import json\n",
    "from tabulate import tabulate\n",
    "from scipy.stats import kde"
   ]
  },
  {
   "cell_type": "code",
   "execution_count": 2,
   "metadata": {},
   "outputs": [],
   "source": [
    "def plot_heat_map(x,y,nbins):\n",
    "    k = kde.gaussian_kde((x,y))\n",
    "    xi, yi = np.mgrid[x.min():x.max():nbins*1j, y.min():y.max():nbins*1j]\n",
    "    zi = k(np.vstack([xi.flatten(), yi.flatten()]))\n",
    "    return plt.pcolormesh(yi, xi, zi.reshape(xi.shape), shading='gouraud', cmap=plt.cm.gist_heat)"
   ]
  },
  {
   "cell_type": "code",
   "execution_count": 3,
   "metadata": {},
   "outputs": [],
   "source": [
    "from IPython.display import display_html\n",
    "def display_side_by_side(*args):\n",
    "    html_str=''\n",
    "    for df in args:\n",
    "        html_str+=df.to_html()\n",
    "    display_html(html_str.replace('table','table style=\"display:inline\"'),raw=True)\n",
    "    "
   ]
  },
  {
   "cell_type": "markdown",
   "metadata": {},
   "source": [
    "### To Do\n",
    "* Graph distribution of size\n",
    "* Graph distribution of size vs number of modis matches \n",
    "* Map modis detection around a particular kaggle wildfire\n",
    "* Could modis detect a fire after \"CONT_DATE\"?\n",
    "* Find appropriate error margins\n",
    "* Evaluate error rate#\n",
    "* Reduce redundancy in searching for matches from each database"
   ]
  },
  {
   "cell_type": "markdown",
   "metadata": {},
   "source": [
    "## Load and Process Datasets"
   ]
  },
  {
   "cell_type": "markdown",
   "metadata": {},
   "source": [
    "### Kaggle"
   ]
  },
  {
   "cell_type": "code",
   "execution_count": 4,
   "metadata": {},
   "outputs": [],
   "source": [
    "cnx = sqlite3.connect(\"FPA_FOD_20170508.sqlite\")\n",
    "\n",
    "kaggle = pd.read_sql_query(\"\"\"\n",
    "SELECT FIRE_YEAR,STAT_CAUSE_DESCR,LATITUDE,LONGITUDE,STATE,DISCOVERY_DATE, DISCOVERY_TIME, CONT_DATE, CONT_TIME, FIRE_SIZE \n",
    "FROM 'Fires'\n",
    "ORDER BY LATITUDE DESC\n",
    "\"\"\", cnx)\n",
    "\n",
    "\n",
    "kaggle['DISCOVERY_DATE'] = pd.to_datetime(kaggle['DISCOVERY_DATE'], origin=\"julian\", unit=\"D\")# - pd.Timestamp(0).to_julian_date(), unit='D')\n",
    "\n",
    "kaggle['CONT_DATE'] = pd.to_datetime(kaggle['CONT_DATE'], origin=\"julian\", unit=\"D\")# - pd.Timestamp(0).to_julian_date(), unit='D')\n",
    "\n",
    "kaggle[\"LATITUDE\"] = pd.to_numeric(kaggle[\"LATITUDE\"])\n",
    "kaggle[\"LONGITUDE\"] = pd.to_numeric(kaggle[\"LONGITUDE\"])\n",
    "\n",
    "\n",
    "modis_start_date = datetime(2000, 1, 1)\n",
    "filter_old_data = kaggle[\"CONT_DATE\"] > modis_start_date\n",
    "kaggle = kaggle[filter_old_data]"
   ]
  },
  {
   "cell_type": "markdown",
   "metadata": {},
   "source": [
    "### Modis\n",
    "\"fire_archive_M6_91543.json\" can be found in the Google Drive folder \"datasets\""
   ]
  },
  {
   "cell_type": "code",
   "execution_count": 5,
   "metadata": {},
   "outputs": [],
   "source": [
    "with open(\"fire_archive_M6_91543.json\", \"r\") as jfile:\n",
    "    modis1=json.loads(jfile.read())\n",
    "    \n",
    "modis = pd.DataFrame.from_dict(modis1)\n",
    "\n",
    "modis.columns = modis.columns.map(lambda x: x.upper())\n",
    "\n",
    "modis[\"LATITUDE\"] = pd.to_numeric(modis[\"LATITUDE\"])\n",
    "modis[\"LONGITUDE\"] = pd.to_numeric(modis[\"LONGITUDE\"])\n",
    "\n",
    "modis['ACQ_DATE'] = pd.to_datetime(modis['ACQ_DATE'])"
   ]
  },
  {
   "cell_type": "markdown",
   "metadata": {},
   "source": [
    "Take smaller sample data sets for testing"
   ]
  },
  {
   "cell_type": "code",
   "execution_count": 6,
   "metadata": {},
   "outputs": [],
   "source": [
    "# take extract of dataset for testing\n",
    "smpl_upper_bound = datetime(year=2007, month=4, day=1)\n",
    "smpl_lower_bound = datetime(year=2007, month=1, day=1)\n",
    "\n",
    "mf1 = modis[\"ACQ_DATE\"] < smpl_upper_bound\n",
    "mf1n2 = (modis[\"ACQ_DATE\"] >= smpl_lower_bound) & mf1\n",
    "\n",
    "modis = modis[mf1n2].copy()\n",
    "\n",
    "kf1 = kaggle[\"DISCOVERY_DATE\"] < smpl_upper_bound\n",
    "kf1n2 = (kaggle[\"CONT_DATE\"] >= smpl_lower_bound) & kf1\n",
    "\n",
    "kaggle = kaggle[kf1n2].copy()"
   ]
  },
  {
   "cell_type": "markdown",
   "metadata": {},
   "source": [
    "## Sample Datasets"
   ]
  },
  {
   "cell_type": "markdown",
   "metadata": {},
   "source": [
    "### KAGGLE"
   ]
  },
  {
   "cell_type": "code",
   "execution_count": 7,
   "metadata": {},
   "outputs": [
    {
     "name": "stdout",
     "output_type": "stream",
     "text": [
      "KAGGLE\n",
      "Number of wilfires:6900\n",
      "\n",
      "Earliest and latest fires: \n"
     ]
    },
    {
     "data": {
      "text/html": [
       "<div>\n",
       "<style scoped>\n",
       "    .dataframe tbody tr th:only-of-type {\n",
       "        vertical-align: middle;\n",
       "    }\n",
       "\n",
       "    .dataframe tbody tr th {\n",
       "        vertical-align: top;\n",
       "    }\n",
       "\n",
       "    .dataframe thead th {\n",
       "        text-align: right;\n",
       "    }\n",
       "</style>\n",
       "<table border=\"1\" class=\"dataframe\">\n",
       "  <thead>\n",
       "    <tr style=\"text-align: right;\">\n",
       "      <th></th>\n",
       "      <th>DISCOVERY_DATE</th>\n",
       "      <th>CONT_DATE</th>\n",
       "    </tr>\n",
       "  </thead>\n",
       "  <tbody>\n",
       "    <tr>\n",
       "      <th>372687</th>\n",
       "      <td>1997-08-10</td>\n",
       "      <td>2007-08-10</td>\n",
       "    </tr>\n",
       "    <tr>\n",
       "      <th>630417</th>\n",
       "      <td>2001-05-14</td>\n",
       "      <td>2010-05-14</td>\n",
       "    </tr>\n",
       "  </tbody>\n",
       "</table>\n",
       "</div>"
      ],
      "text/plain": [
       "       DISCOVERY_DATE  CONT_DATE\n",
       "372687     1997-08-10 2007-08-10\n",
       "630417     2001-05-14 2010-05-14"
      ]
     },
     "metadata": {},
     "output_type": "display_data"
    },
    {
     "name": "stdout",
     "output_type": "stream",
     "text": [
      "\n",
      "Sample:\n"
     ]
    },
    {
     "data": {
      "text/html": [
       "<div>\n",
       "<style scoped>\n",
       "    .dataframe tbody tr th:only-of-type {\n",
       "        vertical-align: middle;\n",
       "    }\n",
       "\n",
       "    .dataframe tbody tr th {\n",
       "        vertical-align: top;\n",
       "    }\n",
       "\n",
       "    .dataframe thead th {\n",
       "        text-align: right;\n",
       "    }\n",
       "</style>\n",
       "<table border=\"1\" class=\"dataframe\">\n",
       "  <thead>\n",
       "    <tr style=\"text-align: right;\">\n",
       "      <th></th>\n",
       "      <th>FIRE_YEAR</th>\n",
       "      <th>STAT_CAUSE_DESCR</th>\n",
       "      <th>LATITUDE</th>\n",
       "      <th>LONGITUDE</th>\n",
       "      <th>STATE</th>\n",
       "      <th>DISCOVERY_DATE</th>\n",
       "      <th>DISCOVERY_TIME</th>\n",
       "      <th>CONT_DATE</th>\n",
       "      <th>CONT_TIME</th>\n",
       "      <th>FIRE_SIZE</th>\n",
       "    </tr>\n",
       "  </thead>\n",
       "  <tbody>\n",
       "    <tr>\n",
       "      <th>3859</th>\n",
       "      <td>2006</td>\n",
       "      <td>Campfire</td>\n",
       "      <td>64.780000</td>\n",
       "      <td>-147.350000</td>\n",
       "      <td>AK</td>\n",
       "      <td>2006-06-05</td>\n",
       "      <td>1427</td>\n",
       "      <td>2007-06-05</td>\n",
       "      <td>1515</td>\n",
       "      <td>0.2</td>\n",
       "    </tr>\n",
       "    <tr>\n",
       "      <th>13683</th>\n",
       "      <td>2007</td>\n",
       "      <td>Debris Burning</td>\n",
       "      <td>48.948056</td>\n",
       "      <td>-115.108889</td>\n",
       "      <td>MT</td>\n",
       "      <td>2007-03-26</td>\n",
       "      <td>1330</td>\n",
       "      <td>2007-03-26</td>\n",
       "      <td>1630</td>\n",
       "      <td>0.7</td>\n",
       "    </tr>\n",
       "    <tr>\n",
       "      <th>15116</th>\n",
       "      <td>2007</td>\n",
       "      <td>Debris Burning</td>\n",
       "      <td>48.888611</td>\n",
       "      <td>-115.143056</td>\n",
       "      <td>MT</td>\n",
       "      <td>2007-03-29</td>\n",
       "      <td>1415</td>\n",
       "      <td>2007-03-29</td>\n",
       "      <td>1700</td>\n",
       "      <td>3.8</td>\n",
       "    </tr>\n",
       "    <tr>\n",
       "      <th>23487</th>\n",
       "      <td>2007</td>\n",
       "      <td>Miscellaneous</td>\n",
       "      <td>48.686400</td>\n",
       "      <td>-102.112000</td>\n",
       "      <td>ND</td>\n",
       "      <td>2007-03-01</td>\n",
       "      <td>0700</td>\n",
       "      <td>2007-03-01</td>\n",
       "      <td>0800</td>\n",
       "      <td>0.1</td>\n",
       "    </tr>\n",
       "    <tr>\n",
       "      <th>26169</th>\n",
       "      <td>2007</td>\n",
       "      <td>Powerline</td>\n",
       "      <td>48.599100</td>\n",
       "      <td>-113.125100</td>\n",
       "      <td>MT</td>\n",
       "      <td>2007-01-02</td>\n",
       "      <td>1730</td>\n",
       "      <td>2007-01-02</td>\n",
       "      <td>2000</td>\n",
       "      <td>2.0</td>\n",
       "    </tr>\n",
       "  </tbody>\n",
       "</table>\n",
       "</div>"
      ],
      "text/plain": [
       "       FIRE_YEAR STAT_CAUSE_DESCR   LATITUDE   LONGITUDE STATE DISCOVERY_DATE  \\\n",
       "3859        2006         Campfire  64.780000 -147.350000    AK     2006-06-05   \n",
       "13683       2007   Debris Burning  48.948056 -115.108889    MT     2007-03-26   \n",
       "15116       2007   Debris Burning  48.888611 -115.143056    MT     2007-03-29   \n",
       "23487       2007    Miscellaneous  48.686400 -102.112000    ND     2007-03-01   \n",
       "26169       2007        Powerline  48.599100 -113.125100    MT     2007-01-02   \n",
       "\n",
       "      DISCOVERY_TIME  CONT_DATE CONT_TIME  FIRE_SIZE  \n",
       "3859            1427 2007-06-05      1515        0.2  \n",
       "13683           1330 2007-03-26      1630        0.7  \n",
       "15116           1415 2007-03-29      1700        3.8  \n",
       "23487           0700 2007-03-01      0800        0.1  \n",
       "26169           1730 2007-01-02      2000        2.0  "
      ]
     },
     "metadata": {},
     "output_type": "display_data"
    }
   ],
   "source": [
    "print(\"KAGGLE\")\n",
    "print(\"Number of wilfires:\" + str(len(kaggle)))\n",
    "print()\n",
    "print(\"Earliest and latest fires: \")\n",
    "min_max = [kaggle[\"DISCOVERY_DATE\"].idxmin(),\n",
    "           kaggle[\"CONT_DATE\"].idxmax()]\n",
    "\n",
    "display(kaggle.loc()[min_max, [\"DISCOVERY_DATE\", \"CONT_DATE\"]])\n",
    "\n",
    "print()\n",
    "print(\"Sample:\")\n",
    "display(kaggle.head())"
   ]
  },
  {
   "cell_type": "markdown",
   "metadata": {},
   "source": [
    "### MODIS"
   ]
  },
  {
   "cell_type": "code",
   "execution_count": 8,
   "metadata": {},
   "outputs": [
    {
     "name": "stdout",
     "output_type": "stream",
     "text": [
      "MODIS\n",
      "Number of wilfires:6900\n",
      "\n",
      "Earliest and latest fires: \n"
     ]
    },
    {
     "data": {
      "text/html": [
       "<div>\n",
       "<style scoped>\n",
       "    .dataframe tbody tr th:only-of-type {\n",
       "        vertical-align: middle;\n",
       "    }\n",
       "\n",
       "    .dataframe tbody tr th {\n",
       "        vertical-align: top;\n",
       "    }\n",
       "\n",
       "    .dataframe thead th {\n",
       "        text-align: right;\n",
       "    }\n",
       "</style>\n",
       "<table border=\"1\" class=\"dataframe\">\n",
       "  <thead>\n",
       "    <tr style=\"text-align: right;\">\n",
       "      <th></th>\n",
       "      <th>ACQ_DATE</th>\n",
       "      <th>ACQ_TIME</th>\n",
       "    </tr>\n",
       "  </thead>\n",
       "  <tbody>\n",
       "    <tr>\n",
       "      <th>699190</th>\n",
       "      <td>2007-01-01</td>\n",
       "      <td>0442</td>\n",
       "    </tr>\n",
       "    <tr>\n",
       "      <th>725284</th>\n",
       "      <td>2007-03-31</td>\n",
       "      <td>0711</td>\n",
       "    </tr>\n",
       "  </tbody>\n",
       "</table>\n",
       "</div>"
      ],
      "text/plain": [
       "         ACQ_DATE ACQ_TIME\n",
       "699190 2007-01-01     0442\n",
       "725284 2007-03-31     0711"
      ]
     },
     "metadata": {},
     "output_type": "display_data"
    },
    {
     "name": "stdout",
     "output_type": "stream",
     "text": [
      "\n",
      "Sample:\n"
     ]
    },
    {
     "data": {
      "text/html": [
       "<div>\n",
       "<style scoped>\n",
       "    .dataframe tbody tr th:only-of-type {\n",
       "        vertical-align: middle;\n",
       "    }\n",
       "\n",
       "    .dataframe tbody tr th {\n",
       "        vertical-align: top;\n",
       "    }\n",
       "\n",
       "    .dataframe thead th {\n",
       "        text-align: right;\n",
       "    }\n",
       "</style>\n",
       "<table border=\"1\" class=\"dataframe\">\n",
       "  <thead>\n",
       "    <tr style=\"text-align: right;\">\n",
       "      <th></th>\n",
       "      <th>LATITUDE</th>\n",
       "      <th>LONGITUDE</th>\n",
       "      <th>ACQ_DATE</th>\n",
       "      <th>ACQ_TIME</th>\n",
       "      <th>TYPE</th>\n",
       "      <th>BRIGHTNESS</th>\n",
       "      <th>CONFIDENCE</th>\n",
       "      <th>FRP</th>\n",
       "      <th>SATELLITE</th>\n",
       "      <th>TRACK</th>\n",
       "      <th>SCAN</th>\n",
       "      <th>INSTRUMENT</th>\n",
       "      <th>BRIGHT_T31</th>\n",
       "      <th>DAYNIGHT</th>\n",
       "      <th>VERSION</th>\n",
       "    </tr>\n",
       "  </thead>\n",
       "  <tbody>\n",
       "    <tr>\n",
       "      <th>699190</th>\n",
       "      <td>46.6931</td>\n",
       "      <td>-94.9139</td>\n",
       "      <td>2007-01-01</td>\n",
       "      <td>0442</td>\n",
       "      <td>0</td>\n",
       "      <td>305.3</td>\n",
       "      <td>26</td>\n",
       "      <td>28.0</td>\n",
       "      <td>Terra</td>\n",
       "      <td>1.3</td>\n",
       "      <td>1.7</td>\n",
       "      <td>MODIS</td>\n",
       "      <td>266.6</td>\n",
       "      <td>N</td>\n",
       "      <td>6.2</td>\n",
       "    </tr>\n",
       "    <tr>\n",
       "      <th>699191</th>\n",
       "      <td>19.3520</td>\n",
       "      <td>-155.0578</td>\n",
       "      <td>2007-01-01</td>\n",
       "      <td>0753</td>\n",
       "      <td>2</td>\n",
       "      <td>316.3</td>\n",
       "      <td>91</td>\n",
       "      <td>148.9</td>\n",
       "      <td>Terra</td>\n",
       "      <td>2.0</td>\n",
       "      <td>4.8</td>\n",
       "      <td>MODIS</td>\n",
       "      <td>288.9</td>\n",
       "      <td>N</td>\n",
       "      <td>6.2</td>\n",
       "    </tr>\n",
       "    <tr>\n",
       "      <th>699192</th>\n",
       "      <td>19.3347</td>\n",
       "      <td>-155.0514</td>\n",
       "      <td>2007-01-01</td>\n",
       "      <td>0753</td>\n",
       "      <td>2</td>\n",
       "      <td>314.1</td>\n",
       "      <td>84</td>\n",
       "      <td>130.6</td>\n",
       "      <td>Terra</td>\n",
       "      <td>2.0</td>\n",
       "      <td>4.8</td>\n",
       "      <td>MODIS</td>\n",
       "      <td>290.6</td>\n",
       "      <td>N</td>\n",
       "      <td>6.2</td>\n",
       "    </tr>\n",
       "    <tr>\n",
       "      <th>699193</th>\n",
       "      <td>19.3530</td>\n",
       "      <td>-155.0519</td>\n",
       "      <td>2007-01-01</td>\n",
       "      <td>0753</td>\n",
       "      <td>2</td>\n",
       "      <td>313.8</td>\n",
       "      <td>83</td>\n",
       "      <td>132.1</td>\n",
       "      <td>Terra</td>\n",
       "      <td>2.0</td>\n",
       "      <td>4.8</td>\n",
       "      <td>MODIS</td>\n",
       "      <td>289.0</td>\n",
       "      <td>N</td>\n",
       "      <td>6.2</td>\n",
       "    </tr>\n",
       "    <tr>\n",
       "      <th>699194</th>\n",
       "      <td>19.3496</td>\n",
       "      <td>-155.0612</td>\n",
       "      <td>2007-01-01</td>\n",
       "      <td>1217</td>\n",
       "      <td>2</td>\n",
       "      <td>345.3</td>\n",
       "      <td>100</td>\n",
       "      <td>67.8</td>\n",
       "      <td>Aqua</td>\n",
       "      <td>1.1</td>\n",
       "      <td>1.2</td>\n",
       "      <td>MODIS</td>\n",
       "      <td>293.6</td>\n",
       "      <td>N</td>\n",
       "      <td>6.2</td>\n",
       "    </tr>\n",
       "  </tbody>\n",
       "</table>\n",
       "</div>"
      ],
      "text/plain": [
       "        LATITUDE  LONGITUDE   ACQ_DATE ACQ_TIME TYPE  BRIGHTNESS CONFIDENCE  \\\n",
       "699190   46.6931   -94.9139 2007-01-01     0442    0       305.3         26   \n",
       "699191   19.3520  -155.0578 2007-01-01     0753    2       316.3         91   \n",
       "699192   19.3347  -155.0514 2007-01-01     0753    2       314.1         84   \n",
       "699193   19.3530  -155.0519 2007-01-01     0753    2       313.8         83   \n",
       "699194   19.3496  -155.0612 2007-01-01     1217    2       345.3        100   \n",
       "\n",
       "          FRP SATELLITE  TRACK  SCAN INSTRUMENT  BRIGHT_T31 DAYNIGHT VERSION  \n",
       "699190   28.0     Terra    1.3   1.7      MODIS       266.6        N     6.2  \n",
       "699191  148.9     Terra    2.0   4.8      MODIS       288.9        N     6.2  \n",
       "699192  130.6     Terra    2.0   4.8      MODIS       290.6        N     6.2  \n",
       "699193  132.1     Terra    2.0   4.8      MODIS       289.0        N     6.2  \n",
       "699194   67.8      Aqua    1.1   1.2      MODIS       293.6        N     6.2  "
      ]
     },
     "metadata": {},
     "output_type": "display_data"
    }
   ],
   "source": [
    "print(\"MODIS\")\n",
    "print(\"Number of wilfires:\" + str(len(kaggle)))\n",
    "print()\n",
    "print(\"Earliest and latest fires: \")\n",
    "min_max = [modis[\"ACQ_DATE\"].idxmin(),\n",
    "           modis[\"ACQ_DATE\"].idxmax()]\n",
    "\n",
    "display(modis.loc()[min_max, [\"ACQ_DATE\", \"ACQ_TIME\"]])\n",
    "\n",
    "print()\n",
    "print(\"Sample:\")\n",
    "display(modis.head())"
   ]
  },
  {
   "cell_type": "markdown",
   "metadata": {},
   "source": [
    "## Map"
   ]
  },
  {
   "cell_type": "code",
   "execution_count": 9,
   "metadata": {},
   "outputs": [
    {
     "data": {
      "text/plain": [
       "<matplotlib.axes._subplots.AxesSubplot at 0x7f2e1b085490>"
      ]
     },
     "execution_count": 9,
     "metadata": {},
     "output_type": "execute_result"
    },
    {
     "data": {
      "image/png": "[encoded data removed]",
      "text/plain": [
       "<Figure size 432x288 with 1 Axes>"
      ]
     },
     "metadata": {
      "needs_background": "light"
     },
     "output_type": "display_data"
    }
   ],
   "source": [
    "kaggle.plot(x ='LONGITUDE', y='LATITUDE', kind = 'scatter', title=\"Kaggle Wildfires\")"
   ]
  },
  {
   "cell_type": "code",
   "execution_count": 10,
   "metadata": {},
   "outputs": [
    {
     "data": {
      "text/plain": [
       "<matplotlib.axes._subplots.AxesSubplot at 0x7f2deef03090>"
      ]
     },
     "execution_count": 10,
     "metadata": {},
     "output_type": "execute_result"
    },
    {
     "data": {
      "image/png": "[encoded data removed]",
      "text/plain": [
       "<Figure size 432x288 with 1 Axes>"
      ]
     },
     "metadata": {
      "needs_background": "light"
     },
     "output_type": "display_data"
    }
   ],
   "source": [
    "modis.plot(x ='LONGITUDE', y='LATITUDE', kind = 'scatter')"
   ]
  },
  {
   "cell_type": "markdown",
   "metadata": {},
   "source": [
    "## Heatmap"
   ]
  },
  {
   "cell_type": "code",
   "execution_count": 11,
   "metadata": {},
   "outputs": [
    {
     "data": {
      "text/plain": [
       "<matplotlib.collections.QuadMesh at 0x7f2dd7c57610>"
      ]
     },
     "execution_count": 11,
     "metadata": {},
     "output_type": "execute_result"
    },
    {
     "data": {
      "image/png": "[encoded data removed]",
      "text/plain": [
       "<Figure size 432x288 with 1 Axes>"
      ]
     },
     "metadata": {
      "needs_background": "light"
     },
     "output_type": "display_data"
    }
   ],
   "source": [
    "plot_heat_map(kaggle[\"LATITUDE\"], kaggle[\"LONGITUDE\"], 120)"
   ]
  },
  {
   "cell_type": "code",
   "execution_count": 12,
   "metadata": {},
   "outputs": [
    {
     "data": {
      "text/plain": [
       "<matplotlib.collections.QuadMesh at 0x7f2dd7c72c50>"
      ]
     },
     "execution_count": 12,
     "metadata": {},
     "output_type": "execute_result"
    },
    {
     "data": {
      "image/png": "[encoded data removed]",
      "text/plain": [
       "<Figure size 432x288 with 1 Axes>"
      ]
     },
     "metadata": {
      "needs_background": "light"
     },
     "output_type": "display_data"
    }
   ],
   "source": [
    "plot_heat_map(modis[\"LATITUDE\"], modis[\"LONGITUDE\"], 120)"
   ]
  },
  {
   "cell_type": "markdown",
   "metadata": {},
   "source": [
    "# Compare Datasets"
   ]
  },
  {
   "cell_type": "markdown",
   "metadata": {},
   "source": [
    "## Cross-reference\n",
    "\n",
    "The below two functions attempt to identify (for each wildfire identified by kaggle) whether there was some MODIS thermal anomaly detected in roughly the same time and place (and vice versa). Each function takes hyperparameters for the acceptable margin of variance in the long/lat coordinates of the datapoints, as well as their dates.\n",
    "\n",
    "For each wildfire/datapoint in kaggle, it identifies which of the MODIS datapoints might be detections it\n",
    "For each thermal anomaly detection in MODIS, it identifies which kaggle wildfires might have produced that thermal anomaly"
   ]
  },
  {
   "cell_type": "code",
   "execution_count": 13,
   "metadata": {},
   "outputs": [],
   "source": [
    "def find_match_indeces_in_modis(k_row, day_margin, lat_margin, long_margin, modis_df):\n",
    "    lat = k_row[\"LATITUDE\"]\n",
    "    long = k_row[\"LONGITUDE\"]\n",
    "    date_disc = k_row[\"DISCOVERY_DATE\"]\n",
    "    date_cont = k_row[\"CONT_DATE\"]\n",
    "    \n",
    "    \n",
    "    lb = date_disc - timedelta(days=day_margin)\n",
    "    \n",
    "    check_time = (lb <= modis_df[\"ACQ_DATE\"]) & (modis_df[\"ACQ_DATE\"] <= date_cont)\n",
    "    \n",
    "    check_long = abs(long - modis_df[\"LONGITUDE\"]) < long_margin\n",
    "    check_lat = abs(lat - modis_df[\"LATITUDE\"]) < lat_margin\n",
    "    \n",
    "    return (check_time & check_long & check_lat)"
   ]
  },
  {
   "cell_type": "code",
   "execution_count": 14,
   "metadata": {},
   "outputs": [],
   "source": [
    "def find_match_indeces_in_kaggle(m_row, day_margin, lat_margin, long_margin, kaggle_df):\n",
    "    lat = m_row[\"LATITUDE\"]\n",
    "    long = m_row[\"LONGITUDE\"]\n",
    "    date_aq = m_row[\"ACQ_DATE\"]    \n",
    "    \n",
    "    lb = date_aq + timedelta(days=day_margin)\n",
    "    \n",
    "    check_time = (kaggle_df[\"DISCOVERY_DATE\"] <= lb) & (date_aq <= kaggle_df[\"CONT_DATE\"])\n",
    "    \n",
    "    check_long = abs(long - kaggle_df[\"LONGITUDE\"]) < long_margin\n",
    "    check_lat = abs(lat - kaggle_df[\"LATITUDE\"]) < lat_margin\n",
    "    \n",
    "    return (check_time & check_long & check_lat)"
   ]
  },
  {
   "cell_type": "markdown",
   "metadata": {},
   "source": [
    "## Hyperparameter Exploration\n",
    "\n",
    "The below code attempts to explore the space of space/time error margin hyperparameters to see how it affects the match-rate of our results\n",
    "\n",
    "* \"date_ivs\" : is a list of the number of days of error to be allowed in matching the dates\n",
    "\n",
    "* \"ll_ivs\" : is a list of the possible number of degrees of error to be allowed in matching the coordinates\n",
    "\n",
    "* \"k_results_hits\": is a dictionary where the keys are the hyperparameter pairs and are linked to the results-index this generates\n",
    "    * e.g. \"k_results_hits[(0.01, 1)] = a list of lists: the inner lists each represent all of the MODIS datapoints which map to a particular kaggle wildfire and the outer list holds these lists across all kaggle wildfires"
   ]
  },
  {
   "cell_type": "code",
   "execution_count": null,
   "metadata": {},
   "outputs": [
    {
     "name": "stdout",
     "output_type": "stream",
     "text": [
      "0.001 0\n",
      "0.01 0\n",
      "0.1 0\n"
     ]
    }
   ],
   "source": [
    "k_results_hits = {}\n",
    "k_results_freq = {}\n",
    "\n",
    "m_results_hits = {}\n",
    "m_results_freq = {}\n",
    "\n",
    "# Probably expensive to calculate the actual distance between points\n",
    "ll_ivs = [0.001, 0.01, 0.1]\n",
    "\n",
    "date_ivs = [0, 2, 4]\n",
    "\n",
    "# kag_matches = {}\n",
    "# mod_matches = {}\n",
    "\n",
    "for dm in date_ivs:\n",
    "    for llm in ll_ivs:\n",
    "        print(llm, dm)\n",
    "        \n",
    "        m_finder = lambda x: find_match_indeces_in_modis(k_row=x,\n",
    "                                                         day_margin=dm,\n",
    "                                                         lat_margin=llm,\n",
    "                                                         long_margin=llm,\n",
    "                                                         modis_df=modis)\n",
    "        k_hits = kaggle.apply(m_finder, axis=1)\n",
    "        \n",
    "#         kag_matches[(llm,dm)] = kaggle.assign(matches=k_hits.values.tolist(),\n",
    "#                                               num_matches=list(map(sum, k_hits.values.tolist())))\n",
    "        \n",
    "        \n",
    "        k_finder = lambda x: find_match_indeces_in_kaggle(m_row=x,\n",
    "                                                          day_margin=dm,\n",
    "                                                          lat_margin=llm,\n",
    "                                                          long_margin=llm,\n",
    "                                                          kaggle_df=kaggle)\n",
    "        \n",
    "        m_hits = modis.apply(k_finder, axis=1)\n",
    "\n",
    "#         mod_matches[(llm,dm)] = modis.assign(matches = m_hits.values.tolist(), \n",
    "#                                              num_matches = list(map(sum, m_hits.values.tolist())))\n",
    "        \n",
    "    \n",
    "        k_results_hits[(llm,dm)] = k_hits\n",
    "        \n",
    "        m_results_hits[(llm,dm)] = m_hits"
   ]
  },
  {
   "cell_type": "code",
   "execution_count": null,
   "metadata": {},
   "outputs": [],
   "source": [
    "k_no_hits_by_row = {}\n",
    "m_no_hits_by_row = {}\n",
    "for dm in date_ivs:\n",
    "    for llm in ll_ivs:     \n",
    "        k_no_hits_by_row[(llm,dm)] = k_results_hits[(llm,dm)].apply(sum)\n",
    "        m_no_hits_by_row[(llm,dm)] = m_results_hits[(llm,dm)].apply(sum)"
   ]
  },
  {
   "cell_type": "code",
   "execution_count": null,
   "metadata": {},
   "outputs": [],
   "source": [
    "print(tabulate(display_grid))"
   ]
  },
  {
   "cell_type": "code",
   "execution_count": null,
   "metadata": {},
   "outputs": [],
   "source": [
    "def show_hyperparam_comp(hits_by_row):\n",
    "    \n",
    "    f, axs = plt.subplots(3, 1, sharey=True, sharex=True, figsize=(8,10))\n",
    "\n",
    "    for a0, ax in enumerate(axs):\n",
    "        llm = ll_ivs[a0]\n",
    "\n",
    "        d1 = [hits_by_row[(llm,dm)] for dm in date_ivs]\n",
    "        ls = [\"Days: \" + str(dm) for dm in date_ivs]\n",
    "\n",
    "        ax.hist(d1, label=ls, bins = [0, 1, 2, 3, 4, 5])\n",
    "        ax.legend(loc='upper right')\n",
    "        ax.set_title(\"Lat/Long error margin = \" + str(llm))\n",
    "\n",
    "        ax.set_yscale(\"log\")\n",
    "\n",
    "    plt.show()"
   ]
  },
  {
   "cell_type": "markdown",
   "metadata": {},
   "source": [
    "## How many times is each kaggle-reported fire identified by a MODIS data point?"
   ]
  },
  {
   "cell_type": "code",
   "execution_count": null,
   "metadata": {},
   "outputs": [],
   "source": [
    "show_hyperparam_comp(k_no_hits_by_row)"
   ]
  },
  {
   "cell_type": "markdown",
   "metadata": {},
   "source": [
    "## How many kaggle-reported fires could each MODIS data-point be detecting?"
   ]
  },
  {
   "cell_type": "code",
   "execution_count": null,
   "metadata": {},
   "outputs": [],
   "source": [
    "show_hyperparam_comp(m_no_hits_by_row)"
   ]
  },
  {
   "cell_type": "code",
   "execution_count": null,
   "metadata": {},
   "outputs": [],
   "source": []
  },
  {
   "cell_type": "code",
   "execution_count": null,
   "metadata": {},
   "outputs": [],
   "source": []
  },
  {
   "cell_type": "code",
   "execution_count": null,
   "metadata": {},
   "outputs": [],
   "source": []
  },
  {
   "cell_type": "code",
   "execution_count": null,
   "metadata": {},
   "outputs": [],
   "source": []
  }
 ],
 "metadata": {
  "kernelspec": {
   "display_name": "Python 3",
   "language": "python",
   "name": "python3"
  },
  "language_info": {
   "codemirror_mode": {
    "name": "ipython",
    "version": 3
   },
   "file_extension": ".py",
   "mimetype": "text/x-python",
   "name": "python",
   "nbconvert_exporter": "python",
   "pygments_lexer": "ipython3",
   "version": "3.7.4"
  }
 },
 "nbformat": 4,
 "nbformat_minor": 4
}
